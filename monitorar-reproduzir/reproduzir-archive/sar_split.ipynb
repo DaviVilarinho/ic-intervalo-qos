{
 "cells": [
  {
   "cell_type": "markdown",
   "metadata": {},
   "source": [
    "Juntando para formar um arquivo só"
   ]
  },
  {
   "cell_type": "code",
   "execution_count": null,
   "metadata": {},
   "outputs": [],
   "source": [
    "import pandas as pd\n",
    "\n",
    "cpu = pd.read_csv('sar_stats-3_cpu.csv')\n",
    "pages = pd.read_csv('sar_stats-3_pages.csv')\n",
    "network = pd.read_csv('sar_stats-3_DEV.csv')\n",
    "\n",
    "cpu_idle = cpu[[\"%idle\"]]\n",
    "pgfree = pages[['pgfree/s']]\n",
    "eth1_rx = network[['rxkB/s']]\n",
    "\n",
    "merged_df = pd.concat([cpu_idle, pgfree, eth1_rx], axis=1)\n",
    "\n",
    "print(merged_df)"
   ]
  }
 ],
 "metadata": {
  "language_info": {
   "name": "python"
  }
 },
 "nbformat": 4,
 "nbformat_minor": 2
}
