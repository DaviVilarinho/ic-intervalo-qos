{
 "cells": [
  {
   "cell_type": "code",
   "execution_count": 5,
   "id": "1e2bd874-9ab9-4e9e-b8d5-27f0c1b7404b",
   "metadata": {},
   "outputs": [],
   "source": [
    "STEPWISE_MIX_PATH = 'stepwise_mix/2024-02-06T20:25:39'\n",
    "\n",
    "features_minimized = []\n",
    "\n",
    "with open(f'{STEPWISE_MIX_PATH}/features_minimized.csv', 'r') as f:\n",
    "    for line in f:\n",
    "        features = list(filter(lambda feature: feature != '' and feature != '\\n', map(lambda features: features.replace('[', '').replace(']', ''), line.split(','))))\n",
    "        features_minimized.append(features)"
   ]
  },
  {
   "cell_type": "code",
   "execution_count": 28,
   "id": "b17f508f-56e1-4d0c-b8f0-d9b6b5cf1eac",
   "metadata": {},
   "outputs": [
    {
     "name": "stdout",
     "output_type": "stream",
     "text": [
      "Max Stepwise Minimized 18\n",
      "Min Stepwise Minimized 1\n",
      "Mean Stepwise Minimized 4.9375\n",
      "Ones Stepwise Minimized 0.21875\n"
     ]
    }
   ],
   "source": [
    "import numpy as np\n",
    "\n",
    "features_lens = list(map(lambda features: len(features), features_minimized))\n",
    "\n",
    "print(f'Max Stepwise Minimized {max(features_lens)}')\n",
    "print(f'Min Stepwise Minimized {min(features_lens)}')\n",
    "print(f'Mean Stepwise Minimized {np.mean(features_lens)}')\n",
    "print(f'Ones Stepwise Minimized {features_lens.count(1)/len(features_lens)}')"
   ]
  }
 ],
 "metadata": {
  "kernelspec": {
   "display_name": "Python 3 (ipykernel)",
   "language": "python",
   "name": "python3"
  },
  "language_info": {
   "codemirror_mode": {
    "name": "ipython",
    "version": 3
   },
   "file_extension": ".py",
   "mimetype": "text/x-python",
   "name": "python",
   "nbconvert_exporter": "python",
   "pygments_lexer": "ipython3",
   "version": "3.11.6"
  }
 },
 "nbformat": 4,
 "nbformat_minor": 5
}
