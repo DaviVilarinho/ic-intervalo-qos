{
 "cells": [
  {
   "cell_type": "code",
   "execution_count": 2,
   "id": "6d47c40e-e69f-4d6a-a85e-ba7f35cd4fe1",
   "metadata": {},
   "outputs": [],
   "source": [
    "from sklearn.tree import DecisionTreeRegressor\n",
    "from sklearn.ensemble import RandomForestRegressor\n",
    "import matplotlib.pyplot as plt\n",
    "from sklearn.model_selection import train_test_split\n",
    "import numpy as np\n",
    "import matplotlib.pyplot as plt\n",
    "import pandas as pd\n",
    "import os\n",
    "import numpy as np\n",
    "import joblib\n",
    "from datetime import datetime\n",
    "import concurrent\n",
    "\n",
    "BASE_DIR = \"../\"\n",
    "PASQUINIS_PATH = BASE_DIR + \"traces-netsoft-2017\"\n",
    "DATE = datetime.now().isoformat(timespec='seconds')\n",
    "BASE_RESULTS_PATH = f'./resultados_pre_pesquisa/{DATE}'\n",
    "MODELS_DIR = \"models/\"\n",
    "MODELS_PATH_PREFIX = f'models/{DATE}_'\n",
    "\n",
    "TRACES=[\n",
    "    #\"KV-BothApps-FlashcrowdLoad\",\n",
    "    #\"KV-BothApps-PeriodicLoad\",\n",
    "    #\"KV-SingleApp-FlashcrowdLoad\",\n",
    "    #\"KV-SingleApp-PeriodicLoad\",\n",
    "    #\"VoD-BothApps-FlashcrowdLoad\",\n",
    "    #\"VoD-BothApps-PeriodicLoad\",\n",
    "    #\"VoD-SingleApp-FlashcrowdLoad\",\n",
    "    \"VoD-SingleApp-PeriodicLoad\"]\n",
    "\n",
    "NROWS = None\n",
    "PERSIST = False\n",
    "Y_METRIC = 'DispFrames'\n",
    "VOD_SINGLEAPP_PERIODIC_LOAD_PATH = f'{PASQUINIS_PATH}/VoD-SingleApp-PeriodicLoad'\n",
    "\n",
    "def nmae(y_pred, y_test):\n",
    "    return abs(y_pred - y_test).mean() / y_test.mean()\n",
    "\n",
    "if PERSIST:\n",
    "    results_path = f'{BASE_RESULTS_PATH}'\n",
    "    try:\n",
    "        os.makedirs(results_path)\n",
    "        os.makedirs(MODELS_DIR)\n",
    "    except FileExistsError:\n",
    "        print(\"Já criado diretório...\")"
   ]
  },
  {
   "cell_type": "code",
   "execution_count": 3,
   "id": "9dee48d8-20bb-4da9-8e34-2ab1a11c574e",
   "metadata": {},
   "outputs": [],
   "source": [
    "y_dataset = pd.read_csv(f'{VOD_SINGLEAPP_PERIODIC_LOAD_PATH}/Y.csv', header=0, nrows=NROWS, index_col=0, usecols=['TimeStamp', 'DispFrames'], low_memory=True).apply(pd.to_numeric, errors='coerce').fillna(0)\n",
    "\n",
    "x_files = ['X_cluster.csv', 'X_flow.csv', 'X_port.csv']\n",
    "\n",
    "x_trace = pd.DataFrame()\n",
    "\n",
    "for x_file in x_files:\n",
    "    read_dataset = pd.read_csv(f'{VOD_SINGLEAPP_PERIODIC_LOAD_PATH}/{x_file}', \n",
    "                              header=0, index_col=0, low_memory=True, nrows=NROWS).apply(pd.to_numeric, errors='coerce').fillna(0)\n",
    "    if len(x_trace.columns) != 0:\n",
    "        x_trace.merge(read_dataset, how=\"inner\",\n",
    "            on=\"TimeStamp\", copy=False)\n",
    "    else:\n",
    "        x_trace = read_dataset\n",
    "\n"
   ]
  },
  {
   "cell_type": "code",
   "execution_count": 12,
   "id": "b23f21b9-7ac8-4d1e-aaa9-28279ff36915",
   "metadata": {},
   "outputs": [],
   "source": [
    "X_train, X_test, y_train, y_test = train_test_split(x_trace, y_dataset, test_size=0.7, random_state=42)\n"
   ]
  },
  {
   "cell_type": "code",
   "execution_count": 8,
   "id": "2975c95a",
   "metadata": {},
   "outputs": [],
   "source": [
    "import time"
   ]
  },
  {
   "cell_type": "code",
   "execution_count": 21,
   "id": "7281f72f",
   "metadata": {},
   "outputs": [
    {
     "name": "stdout",
     "output_type": "stream",
     "text": [
      "Training Time Reg Tree: 32.23722505569458\n",
      "NMAE: 0.10112599697648961\n"
     ]
    }
   ],
   "source": [
    "\n",
    "regression_tree = DecisionTreeRegressor() \n",
    "\n",
    "tempo_reg_tree = time.time()\n",
    "regression_tree.fit(X_train, y_train)\n",
    "tempo_reg_tree = time.time() - tempo_reg_tree\n",
    "\n",
    "if PERSIST:\n",
    "    joblib.dump(regression_tree, f'{MODELS_PATH_PREFIX}_model_regression-tree.sav')\n",
    "\n",
    "print(f'Training Time Reg Tree: {tempo_reg_tree}')\n",
    "pred_reg_tree = regression_tree.predict(X_test)\n",
    "print(f'NMAE: {nmae(pred_reg_tree, y_test[\"DispFrames\"])}')"
   ]
  },
  {
   "cell_type": "code",
   "execution_count": 25,
   "id": "8f662847",
   "metadata": {},
   "outputs": [
    {
     "name": "stderr",
     "output_type": "stream",
     "text": [
      "/home/davi/anaconda3/lib/python3.11/site-packages/sklearn/base.py:1151: DataConversionWarning: A column-vector y was passed when a 1d array was expected. Please change the shape of y to (n_samples,), for example using ravel().\n",
      "  return fit_method(estimator, *args, **kwargs)\n"
     ]
    },
    {
     "name": "stdout",
     "output_type": "stream",
     "text": [
      "Training Time Random Forest: 320.60004210472107\n"
     ]
    }
   ],
   "source": [
    "regr_random_forest = RandomForestRegressor(n_estimators=120, random_state=42, n_jobs=-1)\n",
    "\n",
    "tempo_random_forest = time.time()\n",
    "regr_random_forest.fit(X_train, y_train)\n",
    "tempo_random_forest = time.time() - tempo_random_forest\n",
    "\n",
    "if PERSIST:\n",
    "    joblib.dump(regr_random_forest, f'{MODELS_PATH_PREFIX}_model_random-forest.sav')\n",
    "\n",
    "print(f'Training Time Random Forest: {tempo_random_forest}')\n",
    "pred_random_forest = regr_random_forest.predict(X_test)\n",
    "print(f'NMAE: {nmae(pred_random_forest, y_test[\"DispFrames\"])}')"
   ]
  },
  {
   "cell_type": "code",
   "execution_count": 26,
   "id": "e806922e",
   "metadata": {},
   "outputs": [
    {
     "name": "stdout",
     "output_type": "stream",
     "text": [
      "NMAE: 0.0934177251849149\n"
     ]
    }
   ],
   "source": [
    "print(f'NMAE: {nmae(pred_random_forest, y_test[\"DispFrames\"])}')"
   ]
  },
  {
   "cell_type": "code",
   "execution_count": 28,
   "id": "28eefed0-c946-407d-a114-abff161e00b1",
   "metadata": {},
   "outputs": [
    {
     "name": "stdout",
     "output_type": "stream",
     "text": [
      "Only dataset X_flow.csv\n",
      "Training Time only X_flow.csv Reg Tree: 0.3066692352294922\n",
      "NMAE only X_flow.csv: 0.11325286084708491\n"
     ]
    },
    {
     "name": "stderr",
     "output_type": "stream",
     "text": [
      "/home/davi/anaconda3/lib/python3.11/site-packages/sklearn/base.py:1151: DataConversionWarning: A column-vector y was passed when a 1d array was expected. Please change the shape of y to (n_samples,), for example using ravel().\n",
      "  return fit_method(estimator, *args, **kwargs)\n"
     ]
    },
    {
     "name": "stdout",
     "output_type": "stream",
     "text": [
      "Training Time Random Forest only X_flow.csv: 3.2016818523406982\n",
      "NMAE only X_flow.csv: 0.10733201366994324\n"
     ]
    }
   ],
   "source": [
    "## para X_flow ou x_port\n",
    "\n",
    "x_file = 'X_flow.csv' \n",
    "\n",
    "print(f'Only dataset {x_file}')\n",
    "x_trace_minimal_flow = pd.DataFrame()\n",
    "\n",
    "x_trace_minimal_flow = pd.read_csv(f'{VOD_SINGLEAPP_PERIODIC_LOAD_PATH}/{x_file}', \n",
    "                          header=0, index_col=0, low_memory=True, nrows=NROWS).apply(pd.to_numeric, errors='coerce').fillna(0)\n",
    "\n",
    "X_train_flow, X_test_flow, y_train_flow, y_test_flow = train_test_split(x_trace_minimal_flow, y_dataset, test_size=0.7, random_state=42)\n",
    "\n",
    "regression_tree_flow = DecisionTreeRegressor() \n",
    "\n",
    "tempo_reg_tree_flow = time.time()\n",
    "regression_tree_flow.fit(X_train_flow, y_train_flow)\n",
    "tempo_reg_tree_flow = time.time() - tempo_reg_tree_flow\n",
    "\n",
    "if PERSIST:\n",
    "    joblib.dump(regression_tree_flow, f'{MODELS_PATH_PREFIX}_model_regression-tree_for-{x_file}.sav')\n",
    "\n",
    "print(f'Training Time only {x_file} Reg Tree: {tempo_reg_tree_flow}')\n",
    "pred_reg_tree_flow = regression_tree_flow.predict(X_test_flow)\n",
    "print(f'NMAE only {x_file}: {nmae(pred_reg_tree_flow, y_test[\"DispFrames\"])}')\n",
    "\n",
    "regr_random_forest_flow = RandomForestRegressor(n_estimators=120, random_state=42, n_jobs=-1)\n",
    "\n",
    "tempo_random_forest_flow = time.time()\n",
    "regr_random_forest_flow.fit(X_train_flow, y_train_flow)\n",
    "tempo_random_forest_flow = time.time() - tempo_random_forest_flow\n",
    "\n",
    "if PERSIST:\n",
    "    joblib.dump(regr_random_forest_flow, f'{MODELS_PATH_PREFIX}_model_random-forest_for-{x_file}.sav')\n",
    "\n",
    "print(f'Training Time Random Forest only {x_file}: {tempo_random_forest_flow}')\n",
    "pred_random_forest_flow = regr_random_forest_flow.predict(X_test_flow)\n",
    "print(f'NMAE only {x_file}: {nmae(pred_random_forest_flow, y_test[\"DispFrames\"])}')\n",
    "\n"
   ]
  },
  {
   "cell_type": "code",
   "execution_count": 29,
   "id": "2f36c686",
   "metadata": {
    "scrolled": false
   },
   "outputs": [
    {
     "name": "stdout",
     "output_type": "stream",
     "text": [
      "Only dataset X_port.csv\n",
      "Training Time only X_port.csv Reg Tree: 2.628509044647217\n",
      "NMAE only X_port.csv: 0.11026255886288207\n"
     ]
    },
    {
     "name": "stderr",
     "output_type": "stream",
     "text": [
      "/home/davi/anaconda3/lib/python3.11/site-packages/sklearn/base.py:1151: DataConversionWarning: A column-vector y was passed when a 1d array was expected. Please change the shape of y to (n_samples,), for example using ravel().\n",
      "  return fit_method(estimator, *args, **kwargs)\n"
     ]
    },
    {
     "name": "stdout",
     "output_type": "stream",
     "text": [
      "Training Time Random Forest only X_port.csv: 25.735234260559082\n",
      "NMAE only X_port.csv: 0.10501668143668873\n"
     ]
    }
   ],
   "source": [
    "#'X_port.csv'\n",
    "\n",
    "x_file = 'X_port.csv' \n",
    "\n",
    "print(f'Only dataset {x_file}')\n",
    "x_trace_minimal_port = pd.DataFrame()\n",
    "\n",
    "x_trace_minimal_port = pd.read_csv(f'{VOD_SINGLEAPP_PERIODIC_LOAD_PATH}/{x_file}', \n",
    "                          header=0, index_col=0, low_memory=True, nrows=NROWS).apply(pd.to_numeric, errors='coerce').fillna(0)\n",
    "\n",
    "X_train_port, X_test_port, y_train_port, y_test_port = train_test_split(x_trace_minimal_port, y_dataset, test_size=0.7, random_state=42)\n",
    "\n",
    "regression_tree_port = DecisionTreeRegressor() \n",
    "\n",
    "tempo_reg_tree_port = time.time()\n",
    "regression_tree_port.fit(X_train_port, y_train_port)\n",
    "tempo_reg_tree_port = time.time() - tempo_reg_tree_port\n",
    "\n",
    "if PERSIST:\n",
    "    joblib.dump(regression_tree_port, f'{MODELS_PATH_PREFIX}_model_regression-tree_for-{x_file}.sav')\n",
    "\n",
    "print(f'Training Time only {x_file} Reg Tree: {tempo_reg_tree_port}')\n",
    "pred_reg_tree_port = regression_tree_port.predict(X_test_port)\n",
    "print(f'NMAE only {x_file}: {nmae(pred_reg_tree_port, y_test[\"DispFrames\"])}')\n",
    "\n",
    "regr_random_forest_port = RandomForestRegressor(n_estimators=120, random_state=42, n_jobs=-1)\n",
    "\n",
    "tempo_random_forest_port = time.time()\n",
    "regr_random_forest_port.fit(X_train_port, y_train_port)\n",
    "tempo_random_forest_port = time.time() - tempo_random_forest_port\n",
    "\n",
    "if PERSIST:\n",
    "    joblib.dump(regr_random_forest_port, f'{MODELS_PATH_PREFIX}_model_random-forest_for-{x_file}.sav')\n",
    "\n",
    "print(f'Training Time Random Forest only {x_file}: {tempo_random_forest_port}')\n",
    "pred_random_forest_port = regr_random_forest_port.predict(X_test_port)\n",
    "print(f'NMAE only {x_file}: {nmae(pred_random_forest_port, y_test[\"DispFrames\"])}')\n",
    "\n"
   ]
  },
  {
   "cell_type": "code",
   "execution_count": null,
   "id": "11d44510",
   "metadata": {},
   "outputs": [],
   "source": [
    "#minimal dataset creation\n",
    "import warnings \n",
    "\n",
    "warnings.filterwarnings('ignore')\n",
    "\n",
    "x_trace_minimal = pd.DataFrame()\n",
    "old_reg_tree_nmae = 1\n",
    "old_random_forest_nmae = 1\n",
    "\n",
    "for column in x_trace.columns:\n",
    "    x_trace_minimal[column] = x_trace[[column]].copy()\n",
    "    \n",
    "    X_train_minimal , X_test_minimal, y_train_minimal, y_test_minimal = train_test_split(x_trace_minimal, y_dataset, test_size=0.7, random_state=42)\n",
    "    \n",
    "    regression_tree_minimal = DecisionTreeRegressor() \n",
    "    regression_tree_minimal.fit(X_train_minimal, y_train_minimal)\n",
    "    pred_reg_tree_minimal = regression_tree_minimal.predict(X_test_minimal)\n",
    "    \n",
    "    new_nmae_reg_tree = nmae(pred_reg_tree_minimal, y_test[\"DispFrames\"])\n",
    "\n",
    "    random_forest_minimal = RandomForestRegressor(n_estimators=120, random_state=42, n_jobs=-1)\n",
    "    random_forest_minimal.fit(X_train_minimal, y_train_minimal)\n",
    "    pred_random_forest_minimal = random_forest_minimal.predict(X_test_minimal)\n",
    "    \n",
    "    new_nmae_random_forest = nmae(pred_random_forest_minimal, y_test[\"DispFrames\"])\n",
    "     \n",
    "    if old_reg_tree_nmae >= new_nmae_reg_tree or old_random_forest_nmae >= new_nmae_random_forest:\n",
    "        old_reg_tree_nmae = new_nmae_reg_tree if new_nmae_reg_tree < old_reg_tree_nmae else old_reg_tree_nmae\n",
    "        old_random_forest_nmae = new_nmae_random_forest if new_nmae_random_forest < old_random_forest_nmae else old_random_forest_nmae\n",
    "    else:\n",
    "        x_trace_minimal.drop([column], axis=1, inplace=True)\n",
    "    "
   ]
  },
  {
   "cell_type": "code",
   "execution_count": null,
   "id": "ad374653",
   "metadata": {},
   "outputs": [],
   "source": []
  },
  {
   "cell_type": "code",
   "execution_count": null,
   "id": "351e8aaf",
   "metadata": {},
   "outputs": [],
   "source": []
  }
 ],
 "metadata": {
  "kernelspec": {
   "display_name": "Python 3 (ipykernel)",
   "language": "python",
   "name": "python3"
  },
  "language_info": {
   "codemirror_mode": {
    "name": "ipython",
    "version": 3
   },
   "file_extension": ".py",
   "mimetype": "text/x-python",
   "name": "python",
   "nbconvert_exporter": "python",
   "pygments_lexer": "ipython3",
   "version": "3.11.4"
  }
 },
 "nbformat": 4,
 "nbformat_minor": 5
}
