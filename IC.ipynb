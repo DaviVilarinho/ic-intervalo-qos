{
 "cells": [
  {
   "cell_type": "code",
   "execution_count": 2,
   "id": "6d47c40e-e69f-4d6a-a85e-ba7f35cd4fe1",
   "metadata": {},
   "outputs": [],
   "source": [
    "from sklearn.tree import DecisionTreeRegressor\n",
    "from sklearn.ensemble import RandomForestRegressor\n",
    "import matplotlib.pyplot as plt\n",
    "from sklearn.model_selection import train_test_split\n",
    "import numpy as np\n",
    "import matplotlib.pyplot as plt\n",
    "import pandas as pd\n",
    "import os\n",
    "import numpy as np\n",
    "import joblib\n",
    "from datetime import datetime\n",
    "import concurrent\n",
    "\n",
    "BASE_DIR = \"../\"\n",
    "PASQUINIS_PATH = BASE_DIR + \"traces-netsoft-2017\"\n",
    "DATE = datetime.now().isoformat(timespec='seconds')\n",
    "BASE_RESULTS_PATH = f'./resultados_pre_pesquisa/{DATE}'\n",
    "MODELS_DIR = \"models/\"\n",
    "MODELS_PATH_PREFIX = f'models/{DATE}_'\n",
    "\n",
    "TRACES=[\n",
    "    #\"KV-BothApps-FlashcrowdLoad\",\n",
    "    #\"KV-BothApps-PeriodicLoad\",\n",
    "    #\"KV-SingleApp-FlashcrowdLoad\",\n",
    "    #\"KV-SingleApp-PeriodicLoad\",\n",
    "    #\"VoD-BothApps-FlashcrowdLoad\",\n",
    "    #\"VoD-BothApps-PeriodicLoad\",\n",
    "    #\"VoD-SingleApp-FlashcrowdLoad\",\n",
    "    \"VoD-SingleApp-PeriodicLoad\"]\n",
    "\n",
    "NROWS = None\n",
    "PERSIST = False\n",
    "Y_METRIC = 'DispFrames'\n",
    "VOD_SINGLEAPP_PERIODIC_LOAD_PATH = f'{PASQUINIS_PATH}/VoD-SingleApp-PeriodicLoad'\n",
    "\n",
    "def nmae(y_pred, y_test):\n",
    "    return abs(y_pred - y_test).mean() / y_test.mean()\n",
    "\n",
    "if PERSIST:\n",
    "    results_path = f'{BASE_RESULTS_PATH}'\n",
    "    try:\n",
    "        os.makedirs(results_path)\n",
    "        os.makedirs(MODELS_DIR)\n",
    "    except FileExistsError:\n",
    "        print(\"Já criado diretório...\")"
   ]
  },
  {
   "cell_type": "code",
   "execution_count": 3,
   "id": "9dee48d8-20bb-4da9-8e34-2ab1a11c574e",
   "metadata": {},
   "outputs": [],
   "source": [
    "y_dataset = pd.read_csv(f'{VOD_SINGLEAPP_PERIODIC_LOAD_PATH}/Y.csv', header=0, nrows=NROWS, index_col=0, usecols=['TimeStamp', 'DispFrames'], low_memory=True).apply(pd.to_numeric, errors='coerce').fillna(0)\n",
    "\n",
    "x_files = ['X_cluster.csv', 'X_flow.csv', 'X_port.csv']\n",
    "\n",
    "x_trace = pd.DataFrame()\n",
    "\n",
    "for x_file in x_files:\n",
    "    read_dataset = pd.read_csv(f'{VOD_SINGLEAPP_PERIODIC_LOAD_PATH}/{x_file}', \n",
    "                              header=0, index_col=0, low_memory=True, nrows=NROWS).apply(pd.to_numeric, errors='coerce').fillna(0)\n",
    "    if len(x_trace.columns) != 0:\n",
    "        x_trace.merge(read_dataset, how=\"inner\",\n",
    "            on=\"TimeStamp\", copy=False)\n",
    "    else:\n",
    "        x_trace = read_dataset\n",
    "\n"
   ]
  },
  {
   "cell_type": "code",
   "execution_count": 12,
   "id": "b23f21b9-7ac8-4d1e-aaa9-28279ff36915",
   "metadata": {},
   "outputs": [],
   "source": [
    "X_train, X_test, y_train, y_test = train_test_split(x_trace, y_dataset, test_size=0.7, random_state=42)\n"
   ]
  },
  {
   "cell_type": "code",
   "execution_count": 8,
   "id": "2975c95a",
   "metadata": {},
   "outputs": [],
   "source": [
    "import time"
   ]
  },
  {
   "cell_type": "code",
   "execution_count": 21,
   "id": "7281f72f",
   "metadata": {},
   "outputs": [
    {
     "name": "stdout",
     "output_type": "stream",
     "text": [
      "Training Time Reg Tree: 32.23722505569458\n",
      "NMAE: 0.10112599697648961\n"
     ]
    }
   ],
   "source": [
    "\n",
    "regression_tree = DecisionTreeRegressor() \n",
    "\n",
    "tempo_reg_tree = time.time()\n",
    "regression_tree.fit(X_train, y_train)\n",
    "tempo_reg_tree = time.time() - tempo_reg_tree\n",
    "\n",
    "if PERSIST:\n",
    "    joblib.dump(regression_tree, f'{MODELS_PATH_PREFIX}_model_regression-tree.sav')\n",
    "\n",
    "print(f'Training Time Reg Tree: {tempo_reg_tree}')\n",
    "pred_reg_tree = regression_tree.predict(X_test)\n",
    "print(f'NMAE: {nmae(pred_reg_tree, y_test[\"DispFrames\"])}')"
   ]
  },
  {
   "cell_type": "code",
   "execution_count": 25,
   "id": "8f662847",
   "metadata": {},
   "outputs": [
    {
     "name": "stderr",
     "output_type": "stream",
     "text": [
      "/home/davi/anaconda3/lib/python3.11/site-packages/sklearn/base.py:1151: DataConversionWarning: A column-vector y was passed when a 1d array was expected. Please change the shape of y to (n_samples,), for example using ravel().\n",
      "  return fit_method(estimator, *args, **kwargs)\n"
     ]
    },
    {
     "name": "stdout",
     "output_type": "stream",
     "text": [
      "Training Time Random Forest: 320.60004210472107\n"
     ]
    }
   ],
   "source": [
    "regr_random_forest = RandomForestRegressor(n_estimators=120, random_state=42, n_jobs=-1)\n",
    "\n",
    "tempo_random_forest = time.time()\n",
    "regr_random_forest.fit(X_train, y_train)\n",
    "tempo_random_forest = time.time() - tempo_random_forest\n",
    "\n",
    "if PERSIST:\n",
    "    joblib.dump(regr_random_forest, f'{MODELS_PATH_PREFIX}_model_random-forest.sav')\n",
    "\n",
    "print(f'Training Time Random Forest: {tempo_random_forest}')\n",
    "pred_random_forest = regr_random_forest.predict(X_test)\n"
   ]
  },
  {
   "cell_type": "code",
   "execution_count": 26,
   "id": "e806922e",
   "metadata": {},
   "outputs": [
    {
     "name": "stdout",
     "output_type": "stream",
     "text": [
      "NMAE: 0.0934177251849149\n"
     ]
    }
   ],
   "source": [
    "print(f'NMAE: {nmae(pred_random_forest, y_test[\"DispFrames\"])}')"
   ]
  },
  {
   "cell_type": "code",
   "execution_count": null,
   "id": "28eefed0-c946-407d-a114-abff161e00b1",
   "metadata": {},
   "outputs": [],
   "source": [
    "def get_nmae_random_forest_regression_tree(X, Y) -> tuple:\n",
    "    print(\"Splitando em testes\")\n",
    "    X_train, X_test, y_train, y_test = train_test_split(X, Y, test_size=0.7, random_state=42)\n",
    "    \n",
    "    print(\"Treinando Decision tree\")\n",
    "    regression_tree = DecisionTreeRegressor() # a classification or regression decision tree is used as a predictive model to draw conclusions about a set of observations. \n",
    "    regression_tree.fit(X_train, y_train)\n",
    "\n",
    "    joblib.dump(regression_tree, f'{MODELS_PATH_PREFIX}_model_regression-tree.sav')\n",
    "\n",
    "    print(\"Treinando random forest\")\n",
    "    regr_random_forest = RandomForestRegressor(n_estimators=120, random_state=42, n_jobs=-1)\n",
    "    regr_random_forest.fit(X_train, y_train)\n",
    "\n",
    "    joblib.dump(regr_random_forest, f'{MODELS_PATH_PREFIX}_model_random-forest.sav')\n",
    "\n",
    "    y_random_forest = regr_random_forest.predict(X_test)\n",
    "    y_reg_tree = regression_tree.predict(X_test)\n",
    "    \n",
    "    return (nmae(y_random_forest, y_test), nmae(y_reg_tree, y_test))\n",
    "\n",
    "\n",
    "def get_correlated_columns(x_file, group_column, y_dataset, correlation, Y_METRIC=Y_METRIC):\n",
    "    column_dataset = pd.read_csv(f'{VOD_SINGLEAPP_PERIODIC_LOAD_PATH}/{x_file}', index_col=0, usecols=np.append(['TimeStamp'], group_column),nrows=NROWS).apply(pd.to_numeric, errors='coerce').fillna(0)\n",
    "    for column in group_column:\n",
    "        corr_to_y = abs(column_dataset[column].corr(y_dataset[Y_METRIC]))\n",
    "        if corr_to_y > correlation:\n",
    "            print(f'{column} abs corr to y {corr_to_y}, putting on x_trace')\n",
    "        else:\n",
    "            column_dataset = column_dataset.drop([column], axis=1)\n",
    "    if column_dataset.isnull().values.any():\n",
    "        print(column_dataset.columns.to_list())\n",
    "    return column_dataset\n",
    "\n"
   ]
  }
 ],
 "metadata": {
  "kernelspec": {
   "display_name": "Python 3 (ipykernel)",
   "language": "python",
   "name": "python3"
  },
  "language_info": {
   "codemirror_mode": {
    "name": "ipython",
    "version": 3
   },
   "file_extension": ".py",
   "mimetype": "text/x-python",
   "name": "python",
   "nbconvert_exporter": "python",
   "pygments_lexer": "ipython3",
   "version": "3.11.4"
  }
 },
 "nbformat": 4,
 "nbformat_minor": 5
}
