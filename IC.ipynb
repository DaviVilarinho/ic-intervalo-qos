{
 "cells": [
  {
   "cell_type": "code",
   "execution_count": 1,
   "id": "6d47c40e-e69f-4d6a-a85e-ba7f35cd4fe1",
   "metadata": {},
   "outputs": [],
   "source": [
    "from sklearn.tree import DecisionTreeRegressor\n",
    "from sklearn.ensemble import RandomForestRegressor\n",
    "import matplotlib.pyplot as plt\n",
    "from sklearn.model_selection import train_test_split\n",
    "import numpy as np\n",
    "import matplotlib.pyplot as plt\n",
    "import pandas as pd\n",
    "import os\n",
    "import numpy as np\n",
    "import joblib\n",
    "from datetime import datetime\n",
    "import concurrent\n",
    "\n",
    "BASE_DIR = \"../\"\n",
    "PASQUINIS_PATH = BASE_DIR + \"traces-netsoft-2017\"\n",
    "DATE = datetime.now().isoformat(timespec='seconds')\n",
    "BASE_RESULTS_PATH = f'./resultados_pre_pesquisa/{DATE}'\n",
    "MODELS_DIR = \"models/\"\n",
    "MODELS_PATH_PREFIX = f'models/{DATE}_'\n",
    "\n",
    "TRACES=[\n",
    "    #\"KV-BothApps-FlashcrowdLoad\",\n",
    "    #\"KV-BothApps-PeriodicLoad\",\n",
    "    #\"KV-SingleApp-FlashcrowdLoad\",\n",
    "    #\"KV-SingleApp-PeriodicLoad\",\n",
    "    #\"VoD-BothApps-FlashcrowdLoad\",\n",
    "    #\"VoD-BothApps-PeriodicLoad\",\n",
    "    #\"VoD-SingleApp-FlashcrowdLoad\",\n",
    "    \"VoD-SingleApp-PeriodicLoad\"]\n",
    "\n",
    "NROWS = None\n",
    "PERSIST = False\n",
    "Y_METRIC = 'DispFrames'\n",
    "VOD_SINGLEAPP_PERIODIC_LOAD_PATH = f'{PASQUINIS_PATH}/VoD-SingleApp-PeriodicLoad'\n",
    "\n",
    "def nmae(y_pred, y_test):\n",
    "    return abs(y_pred - y_test).mean() / y_test.mean()\n",
    "\n",
    "if PERSIST:\n",
    "    results_path = f'{BASE_RESULTS_PATH}'\n",
    "    try:\n",
    "        os.makedirs(results_path)\n",
    "        os.makedirs(MODELS_DIR)\n",
    "    except FileExistsError:\n",
    "        print(\"Já criado diretório...\")"
   ]
  },
  {
   "cell_type": "code",
   "execution_count": 2,
   "id": "9dee48d8-20bb-4da9-8e34-2ab1a11c574e",
   "metadata": {},
   "outputs": [],
   "source": [
    "y_dataset = pd.read_csv(f'{VOD_SINGLEAPP_PERIODIC_LOAD_PATH}/Y.csv', header=0, nrows=NROWS, index_col=0, usecols=['TimeStamp', 'DispFrames'], low_memory=True).apply(pd.to_numeric, errors='coerce').fillna(0)\n",
    "\n",
    "x_files = ['X_cluster.csv', 'X_flow.csv', 'X_port.csv']\n",
    "\n",
    "x_trace = pd.DataFrame()\n",
    "\n",
    "for x_file in x_files:\n",
    "    read_dataset = pd.read_csv(f'{VOD_SINGLEAPP_PERIODIC_LOAD_PATH}/{x_file}', \n",
    "                              header=0, index_col=0, low_memory=True, nrows=NROWS).apply(pd.to_numeric, errors='coerce').fillna(0)\n",
    "    if len(x_trace.columns) != 0:\n",
    "        x_trace.merge(read_dataset, how=\"inner\",\n",
    "            on=\"TimeStamp\", copy=False)\n",
    "    else:\n",
    "        x_trace = read_dataset\n",
    "\n"
   ]
  },
  {
   "cell_type": "code",
   "execution_count": 3,
   "id": "b23f21b9-7ac8-4d1e-aaa9-28279ff36915",
   "metadata": {},
   "outputs": [],
   "source": [
    "X_train, X_test, y_train, y_test = train_test_split(x_trace, y_dataset, test_size=0.7, random_state=42)\n"
   ]
  },
  {
   "cell_type": "code",
   "execution_count": 8,
   "id": "2975c95a",
   "metadata": {},
   "outputs": [],
   "source": [
    "import time"
   ]
  },
  {
   "cell_type": "code",
   "execution_count": 5,
   "id": "7281f72f",
   "metadata": {},
   "outputs": [
    {
     "name": "stdout",
     "output_type": "stream",
     "text": [
      "Training Time Reg Tree: 32.21946382522583\n",
      "NMAE: 0.10037706997515161\n"
     ]
    }
   ],
   "source": [
    "\n",
    "regression_tree = DecisionTreeRegressor() \n",
    "\n",
    "tempo_reg_tree = time.time()\n",
    "regression_tree.fit(X_train, y_train)\n",
    "tempo_reg_tree = time.time() - tempo_reg_tree\n",
    "\n",
    "if PERSIST:\n",
    "    joblib.dump(regression_tree, f'{MODELS_PATH_PREFIX}_model_regression-tree.sav')\n",
    "\n",
    "print(f'Training Time Reg Tree: {tempo_reg_tree}')\n",
    "pred_reg_tree = regression_tree.predict(X_test)\n",
    "print(f'NMAE: {nmae(pred_reg_tree, y_test[\"DispFrames\"])}')"
   ]
  },
  {
   "cell_type": "code",
   "execution_count": 6,
   "id": "8f662847",
   "metadata": {},
   "outputs": [
    {
     "name": "stderr",
     "output_type": "stream",
     "text": [
      "/home/davi/anaconda3/lib/python3.11/site-packages/sklearn/base.py:1151: DataConversionWarning: A column-vector y was passed when a 1d array was expected. Please change the shape of y to (n_samples,), for example using ravel().\n",
      "  return fit_method(estimator, *args, **kwargs)\n"
     ]
    },
    {
     "name": "stdout",
     "output_type": "stream",
     "text": [
      "Training Time Random Forest: 308.4941403865814\n",
      "NMAE: 0.0934177251849149\n"
     ]
    }
   ],
   "source": [
    "regr_random_forest = RandomForestRegressor(n_estimators=120, random_state=42, n_jobs=-1)\n",
    "\n",
    "tempo_random_forest = time.time()\n",
    "regr_random_forest.fit(X_train, y_train)\n",
    "tempo_random_forest = time.time() - tempo_random_forest\n",
    "\n",
    "if PERSIST:\n",
    "    joblib.dump(regr_random_forest, f'{MODELS_PATH_PREFIX}_model_random-forest.sav')\n",
    "\n",
    "print(f'Training Time Random Forest: {tempo_random_forest}')\n",
    "pred_random_forest = regr_random_forest.predict(X_test)\n",
    "print(f'NMAE: {nmae(pred_random_forest, y_test[\"DispFrames\"])}')"
   ]
  },
  {
   "cell_type": "code",
   "execution_count": 7,
   "id": "e806922e",
   "metadata": {},
   "outputs": [
    {
     "name": "stdout",
     "output_type": "stream",
     "text": [
      "NMAE: 0.0934177251849149\n"
     ]
    }
   ],
   "source": [
    "print(f'NMAE: {nmae(pred_random_forest, y_test[\"DispFrames\"])}')"
   ]
  },
  {
   "cell_type": "code",
   "execution_count": 8,
   "id": "28eefed0-c946-407d-a114-abff161e00b1",
   "metadata": {},
   "outputs": [
    {
     "name": "stdout",
     "output_type": "stream",
     "text": [
      "Only dataset X_flow.csv\n",
      "Training Time only X_flow.csv Reg Tree: 0.27962470054626465\n",
      "NMAE only X_flow.csv: 0.11457965289482779\n"
     ]
    },
    {
     "name": "stderr",
     "output_type": "stream",
     "text": [
      "/home/davi/anaconda3/lib/python3.11/site-packages/sklearn/base.py:1151: DataConversionWarning: A column-vector y was passed when a 1d array was expected. Please change the shape of y to (n_samples,), for example using ravel().\n",
      "  return fit_method(estimator, *args, **kwargs)\n"
     ]
    },
    {
     "name": "stdout",
     "output_type": "stream",
     "text": [
      "Training Time Random Forest only X_flow.csv: 3.1818175315856934\n",
      "NMAE only X_flow.csv: 0.10733201366994324\n"
     ]
    }
   ],
   "source": [
    "## para X_flow ou x_port\n",
    "\n",
    "x_file = 'X_flow.csv' \n",
    "\n",
    "print(f'Only dataset {x_file}')\n",
    "x_trace_minimal_flow = pd.DataFrame()\n",
    "\n",
    "x_trace_minimal_flow = pd.read_csv(f'{VOD_SINGLEAPP_PERIODIC_LOAD_PATH}/{x_file}', \n",
    "                          header=0, index_col=0, low_memory=True, nrows=NROWS).apply(pd.to_numeric, errors='coerce').fillna(0)\n",
    "\n",
    "X_train_flow, X_test_flow, y_train_flow, y_test_flow = train_test_split(x_trace_minimal_flow, y_dataset, test_size=0.7, random_state=42)\n",
    "\n",
    "regression_tree_flow = DecisionTreeRegressor() \n",
    "\n",
    "tempo_reg_tree_flow = time.time()\n",
    "regression_tree_flow.fit(X_train_flow, y_train_flow)\n",
    "tempo_reg_tree_flow = time.time() - tempo_reg_tree_flow\n",
    "\n",
    "if PERSIST:\n",
    "    joblib.dump(regression_tree_flow, f'{MODELS_PATH_PREFIX}_model_regression-tree_for-{x_file}.sav')\n",
    "\n",
    "print(f'Training Time only {x_file} Reg Tree: {tempo_reg_tree_flow}')\n",
    "pred_reg_tree_flow = regression_tree_flow.predict(X_test_flow)\n",
    "print(f'NMAE only {x_file}: {nmae(pred_reg_tree_flow, y_test_flow[\"DispFrames\"])}')\n",
    "\n",
    "regr_random_forest_flow = RandomForestRegressor(n_estimators=120, random_state=42, n_jobs=-1)\n",
    "\n",
    "tempo_random_forest_flow = time.time()\n",
    "regr_random_forest_flow.fit(X_train_flow, y_train_flow)\n",
    "tempo_random_forest_flow = time.time() - tempo_random_forest_flow\n",
    "\n",
    "if PERSIST:\n",
    "    joblib.dump(regr_random_forest_flow, f'{MODELS_PATH_PREFIX}_model_random-forest_for-{x_file}.sav')\n",
    "\n",
    "print(f'Training Time Random Forest only {x_file}: {tempo_random_forest_flow}')\n",
    "pred_random_forest_flow = regr_random_forest_flow.predict(X_test_flow)\n",
    "print(f'NMAE only {x_file}: {nmae(pred_random_forest_flow, y_test_flow[\"DispFrames\"])}')\n",
    "\n"
   ]
  },
  {
   "cell_type": "code",
   "execution_count": 9,
   "id": "2f36c686",
   "metadata": {},
   "outputs": [
    {
     "name": "stdout",
     "output_type": "stream",
     "text": [
      "Only dataset X_port.csv\n",
      "Training Time only X_port.csv Reg Tree: 2.4806292057037354\n",
      "NMAE only X_port.csv: 0.11184903299796696\n"
     ]
    },
    {
     "name": "stderr",
     "output_type": "stream",
     "text": [
      "/home/davi/anaconda3/lib/python3.11/site-packages/sklearn/base.py:1151: DataConversionWarning: A column-vector y was passed when a 1d array was expected. Please change the shape of y to (n_samples,), for example using ravel().\n",
      "  return fit_method(estimator, *args, **kwargs)\n"
     ]
    },
    {
     "name": "stdout",
     "output_type": "stream",
     "text": [
      "Training Time Random Forest only X_port.csv: 27.997825145721436\n",
      "NMAE only X_port.csv: 0.10501668143668873\n"
     ]
    }
   ],
   "source": [
    "#'X_port.csv'\n",
    "\n",
    "x_file = 'X_port.csv' \n",
    "\n",
    "print(f'Only dataset {x_file}')\n",
    "x_trace_minimal_port = pd.DataFrame()\n",
    "\n",
    "x_trace_minimal_port = pd.read_csv(f'{VOD_SINGLEAPP_PERIODIC_LOAD_PATH}/{x_file}', \n",
    "                          header=0, index_col=0, low_memory=True, nrows=NROWS).apply(pd.to_numeric, errors='coerce').fillna(0)\n",
    "\n",
    "X_train_port, X_test_port, y_train_port, y_test_port = train_test_split(x_trace_minimal_port, y_dataset, test_size=0.7, random_state=42)\n",
    "\n",
    "regression_tree_port = DecisionTreeRegressor() \n",
    "\n",
    "tempo_reg_tree_port = time.time()\n",
    "regression_tree_port.fit(X_train_port, y_train_port)\n",
    "tempo_reg_tree_port = time.time() - tempo_reg_tree_port\n",
    "\n",
    "if PERSIST:\n",
    "    joblib.dump(regression_tree_port, f'{MODELS_PATH_PREFIX}_model_regression-tree_for-{x_file}.sav')\n",
    "\n",
    "print(f'Training Time only {x_file} Reg Tree: {tempo_reg_tree_port}')\n",
    "pred_reg_tree_port = regression_tree_port.predict(X_test_port)\n",
    "print(f'NMAE only {x_file}: {nmae(pred_reg_tree_port, y_test_port[\"DispFrames\"])}')\n",
    "\n",
    "regr_random_forest_port = RandomForestRegressor(n_estimators=120, random_state=42, n_jobs=-1)\n",
    "\n",
    "tempo_random_forest_port = time.time()\n",
    "regr_random_forest_port.fit(X_train_port, y_train_port)\n",
    "tempo_random_forest_port = time.time() - tempo_random_forest_port\n",
    "\n",
    "if PERSIST:\n",
    "    joblib.dump(regr_random_forest_port, f'{MODELS_PATH_PREFIX}_model_random-forest_for-{x_file}.sav')\n",
    "\n",
    "print(f'Training Time Random Forest only {x_file}: {tempo_random_forest_port}')\n",
    "pred_random_forest_port = regr_random_forest_port.predict(X_test_port)\n",
    "print(f'NMAE only {x_file}: {nmae(pred_random_forest_port, y_test_port[\"DispFrames\"])}')\n",
    "\n"
   ]
  },
  {
   "cell_type": "code",
   "execution_count": 34,
   "id": "11d44510",
   "metadata": {},
   "outputs": [],
   "source": [
    "#minimal dataset creation\n",
    "## hypothesis, is selecting 12 most important features suficcient?\n",
    "import warnings \n",
    "\n",
    "warnings.filterwarnings('ignore')\n",
    "\n",
    "x_trace_minimal = pd.DataFrame()\n",
    "old_reg_tree_nmae = 1\n",
    "old_random_forest_nmae = 1\n",
    "columns_with_sufficient_corr = []\n",
    "\n",
    "x_trace_corrwith_y_metric = abs(x_trace.corrwith(y_dataset[Y_METRIC]))\n",
    "x_trace_corrwith_y_metric.fillna(0, inplace=True)\n",
    "x_trace_corrwith_y_metric.sort_values(inplace=True, ascending=False)"
   ]
  },
  {
   "cell_type": "code",
   "execution_count": 43,
   "id": "2505e897-43ce-4466-b7e8-312c88d8f6db",
   "metadata": {},
   "outputs": [
    {
     "data": {
      "text/plain": [
       "Index(['3_ldavg.1', '3_orq.s', '4_ldavg.1', '3_file.nr', '4_kbcommit',\n",
       "       '4_X..commit', '4_plist.sz', '3_runq.sz', '4_file.nr', '3_totsck',\n",
       "       '3_plist.sz', '2_file.nr'],\n",
       "      dtype='object')"
      ]
     },
     "execution_count": 43,
     "metadata": {},
     "output_type": "execute_result"
    }
   ],
   "source": [
    "x_trace_corrwith_y_metric.index[0:12]"
   ]
  },
  {
   "cell_type": "code",
   "execution_count": 46,
   "id": "705fc56c-e137-4aff-a60f-4385e319fafd",
   "metadata": {},
   "outputs": [
    {
     "name": "stdout",
     "output_type": "stream",
     "text": [
      "Index(['3_ldavg.1', '3_orq.s', '4_ldavg.1', '3_file.nr', '4_kbcommit',\n",
      "       '4_X..commit', '4_plist.sz', '3_runq.sz', '4_file.nr', '3_totsck',\n",
      "       '3_plist.sz', '2_file.nr'],\n",
      "      dtype='object')\n",
      "Index(['3_ldavg.1', '4_ldavg.1', '2_ldavg.1', '4_ldavg.5', '2_kbinact',\n",
      "       '1_inode.nr', '1_ldavg.15', '3_cpu8_.iowait', '3_cpu6_.iowait',\n",
      "       '4_cpu22_.iowait', '2_cpu7_.iowait', '1_kbcommit', '0_cpu17_.iowait',\n",
      "       '5_cpu22_.irq', '0_cpu14_.soft', '4_kbinact', '3_all_..nice',\n",
      "       '1_cpu17_.sys', '2_cpu21_.soft', '1_cpu15_.idle', '3_cpu8_MHz',\n",
      "       '5_i804_intr.s', '4_i625_intr.s'],\n",
      "      dtype='object')\n",
      "23\n",
      "MINIMAL NMAE REG_TREE 0.06111487601869711\n",
      " TRAINING TIME MINIMAL REG_TREE 0.10103774070739746\n",
      "MINIMAL NMAE RANDOM_FOREST 0.06803638348769454\n",
      " TRAINING TIME MINIMAL RANDOM FOREST 2.217909574508667\n"
     ]
    }
   ],
   "source": [
    "#training only with reg tree\n",
    "\n",
    "x_trace_minimal_reg_tree = pd.DataFrame()\n",
    "old_reg_tree_nmae = 1\n",
    "\n",
    "for feature in x_trace_corrwith_y_metric.index:\n",
    "    x_trace_minimal_reg_tree[feature] = x_trace[[feature]].copy()\n",
    "    \n",
    "    X_train_minimal , X_test_minimal, y_train_minimal, y_test_minimal = train_test_split(x_trace_minimal_reg_tree, y_dataset, test_size=0.7, random_state=42)\n",
    "    \n",
    "    regression_tree_minimal = DecisionTreeRegressor() \n",
    "    regression_tree_minimal.fit(X_train_minimal, y_train_minimal)\n",
    "    pred_reg_tree_minimal = regression_tree_minimal.predict(X_test_minimal)\n",
    "    \n",
    "    new_nmae_reg_tree = nmae(pred_reg_tree_minimal, y_test_minimal[\"DispFrames\"])\n",
    "     \n",
    "    if old_reg_tree_nmae >= new_nmae_reg_tree:\n",
    "        old_reg_tree_nmae = new_nmae_reg_tree\n",
    "    else:\n",
    "        x_trace_minimal_reg_tree.drop([feature], axis=1, inplace=True)\n",
    "\n",
    "print(x_trace_corrwith_y_metric.index[0:12])\n",
    "print(x_trace_minimal_reg_tree.columns)\n",
    "print(len(x_trace_minimal_reg_tree.columns))\n",
    "\n",
    "X_train_minimal , X_test_minimal, y_train_minimal, y_test_minimal = train_test_split(x_trace_minimal_reg_tree, y_dataset, test_size=0.7, random_state=42)\n",
    "\n",
    "regression_tree_minimal = DecisionTreeRegressor() \n",
    "\n",
    "tempo_reg_tree_minimal = time.time()\n",
    "regression_tree_minimal.fit(X_train_minimal, y_train_minimal)\n",
    "tempo_reg_tree_minimal = time.time() - tempo_reg_tree_minimal\n",
    "\n",
    "\n",
    "pred_reg_tree_minimal = regression_tree_minimal.predict(X_test_minimal)\n",
    "\n",
    "new_nmae_reg_tree = nmae(pred_reg_tree_minimal, y_test_minimal[\"DispFrames\"])\n",
    "\n",
    "print(f'MINIMAL NMAE REG_TREE {new_nmae_reg_tree}\\n TRAINING TIME MINIMAL REG_TREE {tempo_reg_tree_minimal}')\n",
    "\n",
    "random_forest_minimal = RandomForestRegressor(n_estimators=120, random_state=42, n_jobs=-1)\n",
    "\n",
    "tempo_random_forest_minimal = time.time()\n",
    "random_forest_minimal.fit(X_train_minimal, y_train_minimal)\n",
    "tempo_random_forest_minimal = time.time() - tempo_random_forest_minimal\n",
    "\n",
    "pred_random_forest_minimal = random_forest_minimal.predict(X_test_minimal)\n",
    "\n",
    "new_nmae_random_forest = nmae(pred_random_forest_minimal, y_test_minimal[\"DispFrames\"])\n",
    "\n",
    "print(f'MINIMAL NMAE RANDOM_FOREST {new_nmae_random_forest}\\n TRAINING TIME MINIMAL RANDOM FOREST {tempo_random_forest_minimal}')\n"
   ]
  },
  {
   "cell_type": "markdown",
   "id": "06016f01-626b-4fba-9cb1-357703cb20d1",
   "metadata": {},
   "source": [
    "```\n",
    "Index(['3_ldavg.1', '3_orq.s', '4_ldavg.1', '3_file.nr', '4_kbcommit',\n",
    "       '4_X..commit', '4_plist.sz', '3_runq.sz', '4_file.nr', '3_totsck',\n",
    "       '3_plist.sz', '2_file.nr'],\n",
    "      dtype='object')\n",
    "Index(['3_ldavg.1', '4_ldavg.1', '2_ldavg.1', '4_ldavg.5', '2_kbinact',\n",
    "       '1_inode.nr', '1_ldavg.15', '3_cpu8_.iowait', '3_cpu6_.iowait',\n",
    "       '4_cpu22_.iowait', '2_cpu7_.iowait', '1_kbcommit', '0_cpu17_.iowait',\n",
    "       '5_cpu22_.irq', '0_cpu14_.soft', '4_kbinact', '3_all_..nice',\n",
    "       '1_cpu17_.sys', '2_cpu21_.soft', '1_cpu15_.idle', '3_cpu8_MHz',\n",
    "       '5_i804_intr.s', '4_i625_intr.s'],\n",
    "      dtype='object')\n",
    "23\n",
    "MINIMAL NMAE REG_TREE 0.06111487601869711\n",
    " TRAINING TIME MINIMAL REG_TREE 0.10103774070739746\n",
    "MINIMAL NMAE RANDOM_FOREST 0.06803638348769454\n",
    " TRAINING TIME MINIMAL RANDOM FOREST 2.217909574508667\n",
    "```\n",
    "\n",
    "Como dá pra ver, overfittou só listando, acho que não vai ter como fugir do stepwise"
   ]
  },
  {
   "cell_type": "code",
   "execution_count": null,
   "id": "d35b42cd-b468-47ff-81f6-1494906efca3",
   "metadata": {},
   "outputs": [],
   "source": []
  },
  {
   "cell_type": "code",
   "execution_count": 4,
   "id": "17562e67",
   "metadata": {},
   "outputs": [
    {
     "name": "stdout",
     "output_type": "stream",
     "text": [
      "[('3_ldavg.1', 0.45847509678729365), ('3_orq.s', 0.45168820142684335), ('4_ldavg.1', 0.45024980784563573), ('3_file.nr', 0.44996068760540914), ('4_kbcommit', 0.4495659506994577), ('4_X..commit', 0.4495653109214851), ('4_plist.sz', 0.44897666850862666), ('3_runq.sz', 0.4485224345481781), ('4_file.nr', 0.4481894909360291), ('3_totsck', 0.44711913805990866), ('3_plist.sz', 0.4464711658760101), ('2_file.nr', 0.44642624088831534), ('3_X..commit', 0.4463452055931451), ('3_kbcommit', 0.4463419662727667), ('2_totsck', 0.44614714805115585), ('3_tcpsck', 0.44611022423215735), ('5_totsck', 0.44595352223880963), ('5_tcpsck', 0.44591287874574614), ('2_plist.sz', 0.4454382450324796), ('2_X..commit', 0.4446645216525189), ('2_kbcommit', 0.44466048377267325), ('2_tcpsck', 0.44464193877943026), ('5_inode.nr', 0.4444987551985621), ('4_tcpsck', 0.4444239395014656), ('4_runq.sz', 0.44079099908420044), ('2_ldavg.1', 0.4322258169862442), ('3_sum_intr.s', 0.4176936249566355), ('4_pgfree.s', 0.41651861526728035), ('2_runq.sz', 0.41630938612243584), ('3_irec.s', 0.41465010489628223), ('3_idel.s', 0.41464889095753343), ('3_iseg.s', 0.4144766395497978), ('3_kbdirty', 0.41349045562023923), ('4_totsck', 0.40809660476139203), ('4_ldavg.5', 0.40458099296650074), ('3_i128_intr.s', 0.4003969793634314), ('3_ldavg.5', 0.3970023285786899), ('3_oseg.s', 0.3948754667967829), ('2_ldavg.5', 0.3939094192560356), ('3_eth1_txpck.s', 0.3933363429508556), ('5_sum_intr.s', 0.3922511044168207), ('3_i132_intr.s', 0.39222928802304763), ('5_idel.s', 0.38442773984871154), ('5_irec.s', 0.38442760985554814), ('5_iseg.s', 0.38440860566096585), ('3_i133_intr.s', 0.3783345077994464), ('5_orq.s', 0.37718590774762245), ('5_temp4_degC', 0.37386672971601376), ('5_temp4_.temp', 0.37376589309178365), ('3_temp2_degC', 0.37111259705344957), ('3_temp2_.temp', 0.3711072753220044), ('5_temp3_degC', 0.3708003839890205), ('5_temp3_.temp', 0.3707117368818857), ('3_temp4_.temp', 0.3700937863132997), ('3_temp4_degC', 0.37007768078311276), ('3_temp3_.temp', 0.37004193390427187), ('3_temp3_degC', 0.3700269500867173), ('5_i137_intr.s', 0.36944879399850833), ('5_temp1_.temp', 0.3682671325640819), ('5_temp2_.temp', 0.36826491154745095), ('5_temp1_degC', 0.36824255406345074), ('5_temp2_degC', 0.3682401874130456), ('5_i140_intr.s', 0.3669734704785342), ('5_i141_intr.s', 0.36657394454380965), ('3_temp1_.temp', 0.3665507441387324), ('3_temp1_degC', 0.36654774684427494), ('5_i139_intr.s', 0.3648115678879555), ('5_i138_intr.s', 0.3644623171652567), ('5_i142_intr.s', 0.36278952587014357), ('3_i129_intr.s', 0.36197284395101914), ('3_i130_intr.s', 0.360711681331163), ('5_i136_intr.s', 0.3576645182163273), ('2_pgfree.s', 0.35754847541516305), ('3_cpu19_.usr', 0.3554634939210184), ('3_cpu21_.usr', 0.35531035612803263), ('3_cpu15_.usr', 0.35530660716841905), ('3_cpu17_.usr', 0.35490361464775677), ('3_cpu23_.usr', 0.35390843979331205), ('3_all_..usr', 0.35229842980235976), ('3_cpu3_.usr', 0.3508809149786057), ('3_cpu18_.usr', 0.3504328773944473), ('3_cpu4_.usr', 0.35038310557083474), ('3_cpu8_.usr', 0.35012919057923914), ('3_cpu14_.usr', 0.35008073150687563), ('3_cpu20_.usr', 0.3499826172730356), ('3_cpu22_.usr', 0.349882578497152), ('3_cpu2_.usr', 0.349790326659261), ('3_cpu9_.usr', 0.3497511684428477), ('3_cpu10_.usr', 0.3495838318763069), ('3_cpu15_.idle', 0.3493723147710926), ('3_cpu7_.usr', 0.34927998861616183), ('3_cpu17_.idle', 0.3490536475992545), ('3_cpu6_.usr', 0.34904119012221135), ('3_cpu11_.usr', 0.34892379379279354), ('3_cpu16_.usr', 0.34888208382953917), ('3_cpu5_.usr', 0.348799871684589), ('3_cpu19_.idle', 0.34856959978052693), ('3_cpu12_.usr', 0.3484961941701325), ('3_cpu21_.idle', 0.3483027882122757), ('3_cpu0_.usr', 0.3482458895424716), ('4_sum_intr.s', 0.34823061567411223), ('3_cpu23_.idle', 0.34810880479502204), ('3_cpu1_.usr', 0.347645598437453), ('3_all_..idle', 0.3471087035151852), ('3_eth1_txkB.s', 0.3461333353910012), ('3_cpu3_.idle', 0.3453561542998484), ('3_cpu14_.idle', 0.3452636755493912), ('3_cpu16_.idle', 0.3450622905886672), ('3_cpu20_.idle', 0.3448083546556846), ('3_cpu2_.idle', 0.34478432131390335), ('3_cpu9_.idle', 0.34478142096103814), ('5_oseg.s', 0.3447671569387743), ('3_cpu0_.idle', 0.3447381374275983), ('3_cpu18_.idle', 0.34471648116385967), ('3_cpu12_.idle', 0.34458807640049727), ('3_cpu8_.idle', 0.3445739448111903), ('3_cpu4_.idle', 0.3445705209584583), ('3_cpu6_.idle', 0.3445406720027525), ('3_cpu5_.idle', 0.34450273491913586), ('3_cpu7_.idle', 0.3444888362308444), ('3_cpu1_.idle', 0.3444055061991939), ('3_cpu11_.idle', 0.34439710941312596), ('3_cpu13_.idle', 0.3443434890649102), ('3_cpu10_.idle', 0.3442768022625294), ('3_cpu22_.idle', 0.34427677257126577), ('5_eth1_txpck.s', 0.34370394285051914), ('5_all_..idle', 0.3434388967655838), ('2_sum_intr.s', 0.34242097033918456), ('4_kbactive', 0.3398352036302501), ('5_all_..sys', 0.3376887177046468), ('5_i135_intr.s', 0.3345248004588093), ('3_all_..soft', 0.3335537267981846), ('3_cpu13_.soft', 0.3316717404817354), ('4_X..memused', 0.3310288679698929), ('4_kbmemused', 0.33102117500146516), ('4_kbmemfree', 0.33102117500146516), ('4_all_..sys', 0.33007632030341727), ('5_eth1_rxpck.s', 0.32849734783817036), ('3_cpu13_.usr', 0.3246981928296214), ('3_cswch.s', 0.32375791858594394), ('3_i126_intr.s', 0.3157079099442991), ('2_kbactive', 0.31284848272762705), ('2_kbmemused', 0.3106814654254663), ('2_kbmemfree', 0.3106814654254663), ('2_X..memused', 0.31067893541732106), ('4_cpu2_.idle', 0.30907139887378976), ('4_cpu4_.idle', 0.3082011458319293), ('4_all_..idle', 0.30812748201723655), ('4_cpu6_.idle', 0.3079250630923324), ('4_fault.s', 0.30779365955202487), ('4_cpu17_.idle', 0.3069346560725507), ('4_cpu23_.idle', 0.3066468889113377), ('4_cpu13_.idle', 0.3066358078733286), ('4_cpu10_.idle', 0.30657017017784416), ('4_cpu19_.idle', 0.30648840050601717), ('4_cpu0_.idle', 0.30629216673478993), ('4_cpu15_.idle', 0.3058511581979646), ('4_cpu8_.idle', 0.30566552168041194), ('4_cpu21_.idle', 0.3053564501219956), ('5_cswch.s', 0.3041598672862452), ('4_cpu3_.idle', 0.303307543068053), ('4_cpu16_.idle', 0.30306915376753957), ('4_cpu22_.idle', 0.30256345853932093), ('3_i127_intr.s', 0.30248378437021783), ('4_cpu12_.idle', 0.302383058293402), ('4_cpu1_.idle', 0.30223178338118534), ('4_cpu5_.idle', 0.30170675835124094), ('4_cpu20_.idle', 0.3015951159874039), ('4_cpu14_.idle', 0.3014096663487535), ('4_cpu18_.idle', 0.3010158584652651), ('4_cpu7_.idle', 0.30051984213283967), ('4_cpu9_.idle', 0.2998379563390718), ('4_cpu11_.idle', 0.2992642246984875), ('2_cpu3_.idle', 0.298761417310145), ('2_cpu5_.idle', 0.29721541383686606), ('2_cpu1_.idle', 0.2968342076453918), ('2_cpu11_.idle', 0.2964335857089549), ('2_cpu7_.idle', 0.2962391267202388), ('2_cpu9_.idle', 0.2962113211999367), ('2_all_..idle', 0.29607465268367433), ('2_cpu2_.idle', 0.2945389043158323), ('3_eth1_rxpck.s', 0.2940009655147102), ('4_cpu15_.sys', 0.2935747335958958), ('2_cpu15_.idle', 0.2932187761841438), ('2_cpu6_.idle', 0.29320271140109583), ('2_cpu17_.idle', 0.2931914431313403), ('2_cpu13_.idle', 0.2931715622734495), ('2_cpu4_.idle', 0.29308722788469915), ('2_cpu8_.idle', 0.29257826255875413), ('2_cpu0_.idle', 0.2924133116340793), ('2_cpu19_.idle', 0.2923816668361433), ('2_cpu23_.idle', 0.29189591421815714), ('2_cpu21_.idle', 0.29186029940823893), ('4_cpu4_.sys', 0.29155503501319735), ('4_cpu23_.sys', 0.29128632847217684), ('4_cpu13_.sys', 0.29066594747822466), ('2_cpu10_.idle', 0.2903197653167583), ('4_cpu21_.sys', 0.2901881505907327), ('4_cpu8_.sys', 0.28992461304977235), ('2_cpu18_.idle', 0.2898520621506477), ('4_cpu6_.sys', 0.2896501425112251), ('4_cpu17_.sys', 0.2894170318363365), ('2_cpu14_.idle', 0.28937849748431144), ('2_cpu22_.idle', 0.2891504704119508), ('2_cpu12_.idle', 0.2890010632454062), ('2_cpu16_.idle', 0.2889902567112228), ('4_cpu19_.sys', 0.28897226975515405), ('2_cpu20_.idle', 0.2883425541355002), ('3_i131_intr.s', 0.28763431700608477), ('4_cpu10_.sys', 0.2870532872453311), ('4_cpu2_.sys', 0.28627798294473356), ('5_eth1_txkB.s', 0.28470826179594005), ('4_cpu0_.sys', 0.2790865279690265), ('2_fault.s', 0.274348673748493), ('5_all_..soft', 0.27411040022897964), ('4_cpu11_.sys', 0.2632373932960331), ('4_cpu9_.sys', 0.2631755346689538), ('4_cpu5_.sys', 0.2609053829480952), ('4_cpu16_.sys', 0.26084649381997144), ('4_cpu14_.sys', 0.2600594913589252), ('4_cpu7_.sys', 0.2590187650731552), ('4_cpu20_.sys', 0.25777139999581183), ('4_cpu1_.sys', 0.25645491254384506), ('3_kbactive', 0.2561438178505102), ('4_cpu3_.sys', 0.2555254979073444), ('4_cpu22_.sys', 0.2550709454832785), ('4_cpu12_.sys', 0.25433909676677413), ('3_inode.nr', 0.254306353089082), ('4_cpu18_.sys', 0.25429704289292326), ('2_all_..sys', 0.2537489483655811), ('4_ldavg.15', 0.25018635456953214), ('3_cpu13_.sys', 0.24985974251918705), ('2_ldavg.15', 0.24513641526578048), ('3_fault.s', 0.2450885659441692), ('2_cpu10_.sys', 0.24445538805354403), ('2_cpu6_.sys', 0.24398162745369759), ('5_estres.s', 0.24342096425447868), ('2_cpu2_.sys', 0.24246258121460992), ('2_cpu8_.sys', 0.2422105535460924), ('2_cpu4_.sys', 0.2416953391590632), ('2_cpu0_.sys', 0.23567126544893696), ('5_lo_txkB.s', 0.23224609150897005), ('5_lo_rxkB.s', 0.23224609150897005), ('5_retrans.s_2', 0.23189388896526603), ('2_cpu16_.sys', 0.23172513508861872), ('5_file.nr', 0.2316554696469468), ('2_cpu14_.sys', 0.22980724477107317), ('2_cpu18_.sys', 0.2296789262286595), ('4_inode.nr', 0.2291963305293132), ('2_cpu20_.sys', 0.2285430806061742), ('2_inode.nr', 0.22821385155367108), ('2_cpu12_.sys', 0.2277949255028257), ('2_cpu22_.sys', 0.2276450243352135), ('5_lo_txpck.s', 0.22726492280983704), ('5_lo_rxpck.s', 0.22726492280983704), ('3_ldavg.15', 0.22721360086302736), ('0_temp1_degC', 0.2266695499997038), ('0_temp1_.temp', 0.22666938751073298), ('5_odgm.s', 0.22573992562860176), ('5_idgm.s', 0.22571148658013399), ('3_pgfree.s', 0.2255807771879003), ('3_kbmemused', 0.2246993380251367), ('3_kbmemfree', 0.2246993380251367), ('3_X..memused', 0.2246990169063201), ('5_passive.s', 0.2234513887232375), ('5_eth1_.ifutil', 0.222580691674154), ('5_eth1_rxkB.s', 0.22169272953707617), ('5_all_..usr', 0.21950762676553168), ('0_i133_intr.s', 0.21772625415267366), ('0_eth1_rxpck.s', 0.2134915147832551), ('0_iseg.s', 0.21272477378983762), ('0_idel.s', 0.2127046708309007), ('0_irec.s', 0.21270430804344623), ('2_iseg.s', 0.20528116675059013), ('2_idel.s', 0.20522896628326112), ('2_irec.s', 0.20522454186610864), ('3_eth1_.ifutil', 0.19907646105141713), ('3_eth1_rxkB.s', 0.19844108314286327), ('2_cpu17_.sys', 0.18828880914669627), ('2_cpu23_.sys', 0.18827715096538175), ('0_eth1_txkB.s', 0.18669811447857262), ('0_eth1_.ifutil', 0.18668390087005168), ('2_cpu13_.sys', 0.1866603302075334), ('0_eth1_txpck.s', 0.1864767729596625), ('0_oseg.s', 0.18558515658032135), ('2_cpu15_.sys', 0.18539109925520558), ('2_cpu21_.sys', 0.18379418357574168), ('0_temp4_.temp', 0.1835178829220349), ('0_temp4_degC', 0.18346539640974147), ('0_temp3_.temp', 0.18257925218508703), ('0_temp3_degC', 0.18252537731600302), ('2_eth1_rxpck.s', 0.1802846822562399), ('5_orsts.s', 0.18024858794382662), ('2_cpu19_.sys', 0.17999801272569776), ('0_orq.s', 0.17721391657498847), ('2_cpu7_.sys', 0.17522475706196944), ('2_cpu11_.sys', 0.17472720185154428), ('2_cpu9_.sys', 0.17436697124514186), ('2_dentunusd', 0.1739964712037352), ('4_cswch.s', 0.17375728312764518), ('2_cpu5_.sys', 0.17343615047036393), ('4_dentunusd', 0.17208082646021175), ('2_cpu1_.sys', 0.17147260890165744), ('0_pgfree.s', 0.17127008070104197), ('4_iseg.s', 0.17086235601755698), ('4_idel.s', 0.17084246593145266), ('4_irec.s', 0.1708373959864114), ('2_cpu3_.sys', 0.17077565515396073), ('2_cpu19_.usr', 0.1689721667818903), ('5_tcp.tw', 0.16811019080246722), ('2_cpu21_.usr', 0.16724669670964687), ('3_dentunusd', 0.16719010095022865), ('2_cpu15_.usr', 0.1668500443906873), ('3_all_..sys', 0.1666625625625703), ('2_cpu13_.usr', 0.16649611317399352), ('2_cpu17_.usr', 0.16567398394112454), ('2_cpu23_.usr', 0.1637060957496845), ('2_temp4_.temp', 0.15477597098875198), ('2_temp4_degC', 0.1547750220971212), ('2_temp3_.temp', 0.15473340168337257), ('2_temp3_degC', 0.1547317879026178), ('2_cpu3_.usr', 0.15301663374806065), ('4_eth1_rxpck.s', 0.15064683091075112), ('2_cpu5_.usr', 0.14937980281614144), ('5_cpu12_.idle', 0.14883355549675784), ('2_cpu1_.usr', 0.148530044938438), ('0_eth1_rxkB.s', 0.14751588155510953), ('2_cpu9_.usr', 0.14716105470121946), ('2_cpu11_.usr', 0.14631773847046137), ('2_cpu7_.usr', 0.1453643730592366), ('4_temp2_degC', 0.14480253629688702), ('4_temp2_.temp', 0.14475622765128124), ('4_temp1_degC', 0.1446827532599553), ('4_temp1_.temp', 0.14463741755621126), ('5_pgfree.s', 0.14075272911164352), ('5_ldavg.5', 0.13963056517569505), ('2_i141_intr.s', 0.13910212606877673), ('5_cpu12_.sys', 0.13776993499230658), ('2_proc.s', 0.1351523734637838), ('4_proc.s', 0.13157415102427453), ('2_all_..usr', 0.13061132630210104), ('5_cpu16_.idle', 0.13018407950090827), ('3_proc.s', 0.12968415117286178), ('2_i138_intr.s', 0.12770655948832055), ('5_plist.sz', 0.12671055652981858), ('5_cpu20_.idle', 0.12609584827635506), ('5_ldavg.15', 0.1252697747980257), ('5_cpu22_.idle', 0.12514230845261032), ('5_cpu10_.idle', 0.12438675245723056), ('2_i136_intr.s', 0.12374468822028875), ('2_i139_intr.s', 0.12346834003097697), ('5_cpu14_.idle', 0.12300727474683429), ('0_temp2_.temp', 0.12208787748069112), ('0_temp2_degC', 0.12202191763649717), ('5_cpu16_.sys', 0.1213232758112712), ('4_i121_intr.s', 0.12040036311050573), ('2_i140_intr.s', 0.1200627798056041), ('5_cpu10_.sys', 0.11928472717321861), ('5_cpu22_.sys', 0.11924885076402453), ('2_i135_intr.s', 0.11883467437772885), ('5_cpu18_.idle', 0.11819199872943596), ('2_i142_intr.s', 0.11778138142577947), ('3_all_..iowait', 0.11713864684276479), ('5_cpu6_.idle', 0.11702366757861772), ('5_cpu14_.sys', 0.11681146726453051), ('5_cpu8_.idle', 0.11596799762951276), ('4_cpu12_.usr', 0.11554131017098618), ('2_temp2_degC', 0.11542571331813206), ('2_temp2_.temp', 0.11538553054130074), ('5_active.s', 0.11436131940759928), ('4_cpu22_.usr', 0.1123799732707764), ('4_i120_intr.s', 0.11204019345571166), ('4_cpu18_.usr', 0.11179188130123448), ('5_cpu20_.sys', 0.11171353788367153), ('2_i137_intr.s', 0.11124048738405747), ('3_cpu1_.sys', 0.1108123077752609), ('5_cpu0_.sys', 0.11031498613082924), ('5_cpu12_.soft', 0.10959604129103438), ('4_cpu16_.usr', 0.1092343581248464), ('4_cpu20_.usr', 0.10885704151012868), ('5_cpu0_.idle', 0.1083480067255609), ('5_cpu6_.sys', 0.1076493719120178), ('4_i123_intr.s', 0.10723829417990322), ('5_cpu18_.sys', 0.10714128245826651), ('2_orq.s', 0.1067435830900565), ('2_all_..iowait', 0.10664344132780805), ('5_cpu2_.sys', 0.10566241430548858), ('3_cpu12_.sys', 0.10510639235431325), ('4_cpu14_.usr', 0.10500988711184958), ('1_file.nr', 0.10456766209094959), ('2_temp1_.temp', 0.10234577563890507), ('2_temp1_degC', 0.10233884860509192), ('5_cpu4_.idle', 0.10167431054374461), ('4_i124_intr.s', 0.10153353051308087), ('5_cpu2_.idle', 0.1008880907913228), ('4_temp3_.temp', 0.1004217514898629), ('4_temp3_degC', 0.10041772111294062), ('4_temp4_.temp', 0.10040123467325672), ('4_temp4_degC', 0.10039795198519814)]\n",
      "399\n",
      "RangeIndex(start=0, stop=0, step=1)\n",
      "0\n"
     ]
    },
    {
     "ename": "ValueError",
     "evalue": "Found input variables with inconsistent numbers of samples: [0, 37036]",
     "output_type": "error",
     "traceback": [
      "\u001b[0;31m---------------------------------------------------------------------------\u001b[0m",
      "\u001b[0;31mValueError\u001b[0m                                Traceback (most recent call last)",
      "Cell \u001b[0;32mIn[4], line 6\u001b[0m\n\u001b[1;32m      3\u001b[0m \u001b[38;5;28mprint\u001b[39m(x_trace_minimal\u001b[38;5;241m.\u001b[39mcolumns)\n\u001b[1;32m      4\u001b[0m \u001b[38;5;28mprint\u001b[39m(\u001b[38;5;28mlen\u001b[39m(x_trace_minimal\u001b[38;5;241m.\u001b[39mcolumns))\n\u001b[0;32m----> 6\u001b[0m X_train_minimal , X_test_minimal, y_train_minimal, y_test_minimal \u001b[38;5;241m=\u001b[39m \u001b[43mtrain_test_split\u001b[49m\u001b[43m(\u001b[49m\u001b[43mx_trace_minimal\u001b[49m\u001b[43m,\u001b[49m\u001b[43m \u001b[49m\u001b[43my_dataset\u001b[49m\u001b[43m,\u001b[49m\u001b[43m \u001b[49m\u001b[43mtest_size\u001b[49m\u001b[38;5;241;43m=\u001b[39;49m\u001b[38;5;241;43m0.7\u001b[39;49m\u001b[43m,\u001b[49m\u001b[43m \u001b[49m\u001b[43mrandom_state\u001b[49m\u001b[38;5;241;43m=\u001b[39;49m\u001b[38;5;241;43m42\u001b[39;49m\u001b[43m)\u001b[49m\n\u001b[1;32m      8\u001b[0m regression_tree_minimal \u001b[38;5;241m=\u001b[39m DecisionTreeRegressor() \n\u001b[1;32m     10\u001b[0m tempo_reg_tree_minimal \u001b[38;5;241m=\u001b[39m time\u001b[38;5;241m.\u001b[39mtime()\n",
      "File \u001b[0;32m~/.local/lib/python3.11/site-packages/sklearn/model_selection/_split.py:2559\u001b[0m, in \u001b[0;36mtrain_test_split\u001b[0;34m(test_size, train_size, random_state, shuffle, stratify, *arrays)\u001b[0m\n\u001b[1;32m   2556\u001b[0m \u001b[38;5;28;01mif\u001b[39;00m n_arrays \u001b[38;5;241m==\u001b[39m \u001b[38;5;241m0\u001b[39m:\n\u001b[1;32m   2557\u001b[0m     \u001b[38;5;28;01mraise\u001b[39;00m \u001b[38;5;167;01mValueError\u001b[39;00m(\u001b[38;5;124m\"\u001b[39m\u001b[38;5;124mAt least one array required as input\u001b[39m\u001b[38;5;124m\"\u001b[39m)\n\u001b[0;32m-> 2559\u001b[0m arrays \u001b[38;5;241m=\u001b[39m \u001b[43mindexable\u001b[49m\u001b[43m(\u001b[49m\u001b[38;5;241;43m*\u001b[39;49m\u001b[43marrays\u001b[49m\u001b[43m)\u001b[49m\n\u001b[1;32m   2561\u001b[0m n_samples \u001b[38;5;241m=\u001b[39m _num_samples(arrays[\u001b[38;5;241m0\u001b[39m])\n\u001b[1;32m   2562\u001b[0m n_train, n_test \u001b[38;5;241m=\u001b[39m _validate_shuffle_split(\n\u001b[1;32m   2563\u001b[0m     n_samples, test_size, train_size, default_test_size\u001b[38;5;241m=\u001b[39m\u001b[38;5;241m0.25\u001b[39m\n\u001b[1;32m   2564\u001b[0m )\n",
      "File \u001b[0;32m~/.local/lib/python3.11/site-packages/sklearn/utils/validation.py:443\u001b[0m, in \u001b[0;36mindexable\u001b[0;34m(*iterables)\u001b[0m\n\u001b[1;32m    424\u001b[0m \u001b[38;5;250m\u001b[39m\u001b[38;5;124;03m\"\"\"Make arrays indexable for cross-validation.\u001b[39;00m\n\u001b[1;32m    425\u001b[0m \n\u001b[1;32m    426\u001b[0m \u001b[38;5;124;03mChecks consistent length, passes through None, and ensures that everything\u001b[39;00m\n\u001b[0;32m   (...)\u001b[0m\n\u001b[1;32m    439\u001b[0m \u001b[38;5;124;03m    sparse matrix, or dataframe) or `None`.\u001b[39;00m\n\u001b[1;32m    440\u001b[0m \u001b[38;5;124;03m\"\"\"\u001b[39;00m\n\u001b[1;32m    442\u001b[0m result \u001b[38;5;241m=\u001b[39m [_make_indexable(X) \u001b[38;5;28;01mfor\u001b[39;00m X \u001b[38;5;129;01min\u001b[39;00m iterables]\n\u001b[0;32m--> 443\u001b[0m \u001b[43mcheck_consistent_length\u001b[49m\u001b[43m(\u001b[49m\u001b[38;5;241;43m*\u001b[39;49m\u001b[43mresult\u001b[49m\u001b[43m)\u001b[49m\n\u001b[1;32m    444\u001b[0m \u001b[38;5;28;01mreturn\u001b[39;00m result\n",
      "File \u001b[0;32m~/.local/lib/python3.11/site-packages/sklearn/utils/validation.py:397\u001b[0m, in \u001b[0;36mcheck_consistent_length\u001b[0;34m(*arrays)\u001b[0m\n\u001b[1;32m    395\u001b[0m uniques \u001b[38;5;241m=\u001b[39m np\u001b[38;5;241m.\u001b[39munique(lengths)\n\u001b[1;32m    396\u001b[0m \u001b[38;5;28;01mif\u001b[39;00m \u001b[38;5;28mlen\u001b[39m(uniques) \u001b[38;5;241m>\u001b[39m \u001b[38;5;241m1\u001b[39m:\n\u001b[0;32m--> 397\u001b[0m     \u001b[38;5;28;01mraise\u001b[39;00m \u001b[38;5;167;01mValueError\u001b[39;00m(\n\u001b[1;32m    398\u001b[0m         \u001b[38;5;124m\"\u001b[39m\u001b[38;5;124mFound input variables with inconsistent numbers of samples: \u001b[39m\u001b[38;5;132;01m%r\u001b[39;00m\u001b[38;5;124m\"\u001b[39m\n\u001b[1;32m    399\u001b[0m         \u001b[38;5;241m%\u001b[39m [\u001b[38;5;28mint\u001b[39m(l) \u001b[38;5;28;01mfor\u001b[39;00m l \u001b[38;5;129;01min\u001b[39;00m lengths]\n\u001b[1;32m    400\u001b[0m     )\n",
      "\u001b[0;31mValueError\u001b[0m: Found input variables with inconsistent numbers of samples: [0, 37036]"
     ]
    }
   ],
   "source": []
  },
  {
   "cell_type": "code",
   "execution_count": null,
   "id": "351e8aaf",
   "metadata": {},
   "outputs": [],
   "source": [
    "# REPLICAÇÃO POR SWITCH\n",
    "## "
   ]
  },
  {
   "cell_type": "code",
   "execution_count": null,
   "id": "ad374653",
   "metadata": {},
   "outputs": [
    {
     "name": "stdout",
     "output_type": "stream",
     "text": [
      "VoD-BothApps-FlashcrowdLoad\n",
      "['X_cluster.csv', 'X_flow.csv', 'X_port.csv']\n"
     ]
    }
   ],
   "source": [
    "# para os demais\n",
    "\n",
    "TRACES=[\n",
    "    #\"KV-BothApps-FlashcrowdLoad\",\n",
    "    #\"KV-BothApps-PeriodicLoad\",\n",
    "    #\"KV-SingleApp-FlashcrowdLoad\",\n",
    "    #\"KV-SingleApp-PeriodicLoad\",\n",
    "    \"VoD-BothApps-FlashcrowdLoad\",\n",
    "    \"VoD-BothApps-PeriodicLoad\",\n",
    "    \"VoD-SingleApp-FlashcrowdLoad\",\n",
    "    \"VoD-SingleApp-PeriodicLoad\"]\n",
    "\n",
    "for trace in TRACES:\n",
    "    print(trace)\n",
    "    y_dataset_trace = pd.read_csv(f'{PASQUINIS_PATH}/{trace}/Y.csv', header=0, nrows=NROWS, index_col=0, usecols=['TimeStamp', 'DispFrames'], low_memory=True).apply(pd.to_numeric, errors='coerce').fillna(0)\n",
    "\n",
    "    for x_files in [['X_cluster.csv', 'X_flow.csv', 'X_port.csv'], ['X_port.csv'], ['X_flow.csv']]:\n",
    "        print(x_files)\n",
    "        x = pd.DataFrame()\n",
    "\n",
    "        for x_file in x_files:\n",
    "            read_dataset = pd.read_csv(f'{PASQUINIS_PATH}/{trace}/{x_file}', \n",
    "                                      header=0, index_col=0, low_memory=True, nrows=NROWS).apply(pd.to_numeric, errors='coerce').fillna(0)\n",
    "            if len(x_trace.columns) != 0:\n",
    "                x_trace.merge(read_dataset, how=\"inner\",\n",
    "                    on=\"TimeStamp\", copy=False)\n",
    "            else:\n",
    "                x_trace = read_dataset\n",
    "\n",
    "        x_training, x_testing, y_training, y_testing = train_test_split(x, y_dataset_trace, test_size=0.7, random_state=42)\n",
    "\n",
    "        print('full_x')\n",
    "        print('regression_method, nmae, training_time')\n",
    "\n",
    "        regression_tree_trace = DecisionTreeRegressor() \n",
    "        tempo_reg_tree_trace = time.time()\n",
    "        regression_tree_trace.fit(x_training, y_training)\n",
    "        tempo_reg_tree_trace = time.time() - tempo_reg_tree_trace\n",
    "        pred_reg_tree_trace = regression_tree_trace.predict(x_testing)\n",
    "\n",
    "        print(f'Reg_Tree, {nmae(pred_reg_tree_trace, y_testing[\"DispFrames\"])}, {tempo_reg_tree_trace}')\n",
    "\n",
    "        regr_random_forest_trace = RandomForestRegressor(n_estimators=120, random_state=42, n_jobs=-1)\n",
    "        tempo_random_forest_trace = time.time()\n",
    "        regr_random_forest_trace.fit(x_training, y_training)\n",
    "        tempo_random_forest_trace = time.time() - tempo_random_forest\n",
    "        pred_random_forest_trace = regr_random_forest_trace.predict(x_testing)\n",
    "\n",
    "        print(f'Rand_For, {nmae(pred_random_forest_trace, y_testing[\"DispFrames\"])}, {tempo_random_forest_trace}')\n",
    "\n"
   ]
  }
 ],
 "metadata": {
  "kernelspec": {
   "display_name": "Python 3 (ipykernel)",
   "language": "python",
   "name": "python3"
  },
  "language_info": {
   "codemirror_mode": {
    "name": "ipython",
    "version": 3
   },
   "file_extension": ".py",
   "mimetype": "text/x-python",
   "name": "python",
   "nbconvert_exporter": "python",
   "pygments_lexer": "ipython3",
   "version": "3.11.5"
  }
 },
 "nbformat": 4,
 "nbformat_minor": 5
}
